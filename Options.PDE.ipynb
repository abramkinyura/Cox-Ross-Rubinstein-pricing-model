{
 "cells": [
  {
   "cell_type": "code",
   "execution_count": 1,
   "metadata": {
    "collapsed": true
   },
   "outputs": [
   ],
   "source": [
    "import numpy as np\n",
    "import math as m\n",
    "import scipy.linalg as linalg\n",
    "from scipy import stats\n",
    "from timeit import default_timer"
   ]
  },
  {
   "cell_type": "markdown",
   "metadata": {
    "collapsed": false
   },
   "source": [
    "Example from:\n",
    "\n",
    "James Ma Weiming -- Mastering Python for Finance https://www.packtpub.com/big-data-and-business-intelligence/mastering-python-finance\n",
    "\n",
    "(see: https://github.com/jamesmawm/Mastering-Python-for-Finance-source-codes/tree/master/B03898_04_codes)"
   ]
  },
  {
   "cell_type": "code",
   "execution_count": 2,
   "metadata": {
    "collapsed": false
   },
   "outputs": [
   ],
   "source": [
    "#\"\"\" Shared attributes and functions of FD \"\"\" \n",
    "class FiniteDifferences(object):\n",
    "    def __init__(self, S0, K, r, T, sigma, Smax, M, N,\n",
    "                 is_call=True):\n",
    "        self.S0 = S0\n",
    "        self.K = K\n",
    "        self.r = r\n",
    "        self.T = T\n",
    "        self.sigma = sigma\n",
    "        self.Smax = Smax\n",
    "        self.M, self.N = int(M), int(N)  # Ensure M & N are integers\n",
    "        self.is_call = is_call\n",
    "        self.dS = Smax / float(self.M)\n",
    "        self.dt = T / float(self.N)\n",
    "        self.i_values = np.arange(self.M)\n",
    "        self.j_values = np.arange(self.N)\n",
    "        self.grid = np.zeros(shape=(self.M+1, self.N+1))\n",
    "        self.boundary_conds = np.linspace(0, Smax, self.M+1)\n",
    "        \n",
    "    def _setup_boundary_conditions_(self):\n",
    "        if self.is_call:\n",
    "            self.grid[:, -1] = np.maximum(\n",
    "                self.boundary_conds - self.K, 0)\n",
    "            self.grid[-1, :-1] = (self.Smax - self.K) * \\\n",
    "                                 np.exp(-self.r *\n",
    "                                        self.dt *\n",
    "                                        (self.N-self.j_values))\n",
    "        else:\n",
    "            self.grid[:, -1] = \\\n",
    "                np.maximum(self.K-self.boundary_conds, 0)\n",
    "            \n",
    "            self.grid[0, :-1] = (self.K - self.Smax) * \\\n",
    "                np.exp(-self.r *\n",
    "                       self.dt *\n",
    "                       (self.N-self.j_values))\n",
    "    \n",
    "    def _setup_coefficients_(self):\n",
    "        pass\n",
    "    \n",
    "    def _traverse_grid_(self):\n",
    "        \"\"\"\n",
    "        Iterate the grid backwards in time \n",
    "        \"\"\"\n",
    "        pass\n",
    "    \n",
    "    def _interpolate_(self):\n",
    "        \"\"\"\n",
    "        Use piecewise linear interpolation on the initial\n",
    "        grid column to get the closest price at S0.\n",
    "        \"\"\"\n",
    "        return np.interp(self.S0,\n",
    "                         self.boundary_conds,\n",
    "                         self.grid[:, 0]) \n",
    "    \n",
    "    def price(self):\n",
    "        self._setup_boundary_conditions_()\n",
    "        self._setup_coefficients_()\n",
    "        self._traverse_grid_()\n",
    "        return self._interpolate_()"
   ]
  },
  {
   "cell_type": "code",
   "execution_count": 3,
   "metadata": {
    "collapsed": false
   },
   "outputs": [
   ],
   "source": [
    "class FDExplicitEu(FiniteDifferences):    \n",
    "    def _setup_coefficients_(self):\n",
    "        self.a = 0.5*self.dt*((self.sigma**2) *\n",
    "                              (self.i_values**2) -\n",
    "                              self.r*self.i_values)\n",
    "        \n",
    "        self.b = 1 - self.dt*((self.sigma**2) * \n",
    "                              (self.i_values**2) +\n",
    "                              self.r)\n",
    "        \n",
    "        self.c = 0.5*self.dt*((self.sigma**2) *\n",
    "                              (self.i_values**2) +\n",
    "                              self.r*self.i_values)\n",
    "    \n",
    "    def _traverse_grid_(self):\n",
    "        for j in reversed(self.j_values):\n",
    "            for i in range(self.M)[2:]:\n",
    "                self.grid[i,j] = self.a[i]*self.grid[i-1,j+1] +\\\n",
    "                self.b[i]*self.grid[i,j+1] + \\\n",
    "                self.c[i]*self.grid[i+1,j+1]\n",
    "                "
   ]
  },
  {
   "cell_type": "code",
   "execution_count": 4,
   "metadata": {
    "collapsed": false
   },
   "outputs": [
   ],
   "source": [
    "class FDImplicitEu(FiniteDifferences):\n",
    "    def _setup_coefficients_(self):\n",
    "        self.a = 0.5*(self.r*self.dt*self.i_values -\n",
    "                      (self.sigma**2)*self.dt*(self.i_values**2))\n",
    "        self.b = 1 + \\\n",
    "                 (self.sigma**2)*self.dt*(self.i_values**2) + \\\n",
    "                 self.r*self.dt\n",
    "        self.c = -0.5*(self.r * self.dt*self.i_values +\n",
    "                       (self.sigma**2)*self.dt*(self.i_values**2))\n",
    "        self.coeffs = np.diag(self.a[2:self.M], -1) + \\\n",
    "                      np.diag(self.b[1:self.M]) + \\\n",
    "                      np.diag(self.c[1:self.M-1], 1)\n",
    "    \n",
    "    def _traverse_grid_(self):\n",
    "        \"\"\" Solve using linear systems of equations \"\"\"\n",
    "        P, L, U = linalg.lu(self.coeffs)\n",
    "        aux = np.zeros(self.M-1)\n",
    "        for j in reversed(range(self.N)):\n",
    "            aux[0] = np.dot(-self.a[1], self.grid[0, j])\n",
    "            x1 = linalg.solve(L, self.grid[1:self.M, j+1]+aux)\n",
    "            x2 = linalg.solve(U, x1)\n",
    "            self.grid[1:self.M, j] = x2\n",
    "            "
   ]
  },
  {
   "cell_type": "code",
   "execution_count": 5,
   "metadata": {
    "collapsed": true
   },
   "outputs": [
   ],
   "source": [
    "class FDCnEu(FiniteDifferences):\n",
    "    def _setup_coefficients_(self):\n",
    "        self.alpha = 0.25*self.dt*(\n",
    "            (self.sigma**2)*(self.i_values**2) -\n",
    "            self.r*self.i_values)\n",
    "        \n",
    "        self.beta = -self.dt*0.5*(\n",
    "            (self.sigma**2)*(self.i_values**2) +\n",
    "            self.r)         \n",
    "        \n",
    "        self.gamma = 0.25*self.dt*(\n",
    "            (self.sigma**2)*(self.i_values**2) +\n",
    "            self.r*self.i_values)\n",
    "        \n",
    "        self.M1 = -np.diag(self.alpha[2:self.M], -1) + \\\n",
    "            np.diag(1-self.beta[1:self.M]) - \\\n",
    "            np.diag(self.gamma[1:self.M-1], 1)\n",
    "            \n",
    "        self.M2 = np.diag(self.alpha[2:self.M], -1) + \\\n",
    "            np.diag(1+self.beta[1:self.M]) + \\\n",
    "            np.diag(self.gamma[1:self.M-1], 1)\n",
    "            \n",
    "    def _traverse_grid_(self):\n",
    "        \"\"\" Solve using linear systems of equations \"\"\"\n",
    "        P, L, U = linalg.lu(self.M1)\n",
    "        for j in reversed(range(self.N)):\n",
    "            x1 = linalg.solve(L,\n",
    "                              np.dot(self.M2,\n",
    "                                     self.grid[1:self.M, j+1]))\n",
    "            x2 = linalg.solve(U, x1)\n",
    "            self.grid[1:self.M, j] = x2\n",
    "                "
   ]
  },
  {
   "cell_type": "code",
   "execution_count": 6,
   "metadata": {
    "collapsed": false
   },
   "outputs": [
    {
     "name": "stdout",
     "output_type": "stream",
     "text": [
      "ref_pv: 5.988244 \n"
     ]
    }
   ],
   "source": [
    "def N(x):\n",
    "    return stats.norm.cdf(x, 0.0, 1.0)\n",
    "\n",
    "def bsm_d1(S, K, T, r, sigma):\n",
    "    S = float(S)\n",
    "    return (m.log(S / K) + (r + 0.5 * sigma ** 2) * T) / (sigma * m.sqrt(T))\n",
    "\n",
    "def bsm_d2(S, K, T, r, sigma):\n",
    "    S = float(S)\n",
    "    return (m.log(S / K) + (r - 0.5 * sigma ** 2) * T) / (sigma * m.sqrt(T))\n",
    "\n",
    "def bsm_call_pv(S, K, T, r, sigma):\n",
    "    d1 = bsm_d1(S, K, T, r, sigma)\n",
    "    d2 = bsm_d2(S, K, T, r, sigma)\n",
    "    return S * N(d1) - K * m.exp(-r * T) * N(d2)\n",
    "\n",
    "def bsm_call_delta(S, K, T, r, sigma):\n",
    "    d1 = bsm_d1(S, K, T, r, sigma)\n",
    "    return N(d1)\n",
    "\n",
    "S0 = 80.; K = 85.; T = 1.; r = 0.05; \n",
    "sigma = 0.2\n",
    "\n",
    "Smax = 160.\n",
    "\n",
    "ref_pv = bsm_call_pv(S0, K, T, r, sigma)\n",
    "\n",
    "print( \"ref_pv: %.6f \" % (ref_pv) )"
   ]
  },
  {
   "cell_type": "code",
   "execution_count": 7,
   "metadata": {
    "collapsed": false
   },
   "outputs": [
    {
     "name": "stdout",
     "output_type": "stream",
     "text": [
      "PV: 5.98385, abs diff: 0.00440, rel diff:  0.00073\n",
      "Calculation time   0.53855\n"
     ]
    }
   ],
   "source": [
    "start = default_timer()\n",
    "\n",
    "pv = FDExplicitEu(S0=S0, K=K, r=r, T=T, sigma=sigma, Smax=Smax,\n",
    "                  M=100, N=1000, is_call=True).price()\n",
    "\n",
    "calcTime = default_timer() - start\n",
    "print( \"PV: %.5f, abs diff: %.5f, rel diff:  %.5f\" % (pv, ref_pv - pv, (ref_pv - pv)/ref_pv) )\n",
    "print( \"Calculation time   %.5f\" % calcTime )"
   ]
  },
  {
   "cell_type": "code",
   "execution_count": 8,
   "metadata": {
    "collapsed": false
   },
   "outputs": [
    {
     "name": "stdout",
     "output_type": "stream",
     "text": [
      "PV: 12571236732673735775324723331838063331810213888.00000, abs diff: -12571236732673735775324723331838063331810213888.00000, rel diff:  -2099319459762903469099949937327727273377267712.00000\n",
      "Calculation time   0.06131\n"
     ]
    }
   ],
   "source": [
    "start = default_timer()\n",
    "\n",
    "pv = FDExplicitEu(S0=S0, K=K, r=r, T=T, sigma=sigma, Smax=Smax,\n",
    "                  M=100, N=100, is_call=True).price()\n",
    "\n",
    "calcTime = default_timer() - start\n",
    "print( \"PV: %.5f, abs diff: %.5f, rel diff:  %.5f\" % (pv, ref_pv - pv, (ref_pv - pv)/ref_pv) )\n",
    "print( \"Calculation time   %.5f\" % calcTime )"
   ]
  },
  {
   "cell_type": "code",
   "execution_count": 9,
   "metadata": {
    "collapsed": false
   },
   "outputs": [
    {
     "name": "stdout",
     "output_type": "stream",
     "text": [
      "PV: 5.90271, abs diff: 0.08553, rel diff:  0.01428\n",
      "Calculation time   0.20542\n"
     ]
    }
   ],
   "source": [
    "start = default_timer()\n",
    "\n",
    "pv = FDImplicitEu(S0=S0, K=K, r=r, T=T, sigma=sigma, Smax=Smax,\n",
    "                  M=100, N=100, is_call=True).price()\n",
    "\n",
    "calcTime = default_timer() - start\n",
    "print( \"PV: %.5f, abs diff: %.5f, rel diff:  %.5f\" % (pv, ref_pv - pv, (ref_pv - pv)/ref_pv) )\n",
    "print( \"Calculation time   %.5f\" % calcTime )"
   ]
  },
  {
   "cell_type": "code",
   "execution_count": 10,
   "metadata": {
    "collapsed": false
   },
   "outputs": [
    {
     "name": "stdout",
     "output_type": "stream",
     "text": [
      "PV: 5.91710, abs diff: 0.07114, rel diff:  0.01188\n",
      "Calculation time   1.04794\n"
     ]
    }
   ],
   "source": [
    "start = default_timer()\n",
    "\n",
    "pv = FDImplicitEu(S0=S0, K=K, r=r, T=T, sigma=sigma, Smax=Smax,\n",
    "                  M=100, N=1000, is_call=True).price()\n",
    "\n",
    "calcTime = default_timer() - start\n",
    "print( \"PV: %.5f, abs diff: %.5f, rel diff:  %.5f\" % (pv, ref_pv - pv, (ref_pv - pv)/ref_pv) )\n",
    "print( \"Calculation time   %.5f\" % calcTime )"
   ]
  },
  {
   "cell_type": "code",
   "execution_count": 11,
   "metadata": {
    "collapsed": false
   },
   "outputs": [
    {
     "name": "stdout",
     "output_type": "stream",
     "text": [
      "PV: 5.91868, abs diff: 0.06957, rel diff:  0.01162\n",
      "Calculation time   0.15963\n"
     ]
    }
   ],
   "source": [
    "start = default_timer()\n",
    "\n",
    "pv = FDCnEu(S0=S0, K=K, r=r, T=T, sigma=sigma, Smax=Smax,\n",
    "                  M=100, N=100, is_call=True).price()\n",
    "\n",
    "calcTime = default_timer() - start\n",
    "print( \"PV: %.5f, abs diff: %.5f, rel diff:  %.5f\" % (pv, ref_pv - pv, (ref_pv - pv)/ref_pv) )\n",
    "print( \"Calculation time   %.5f\" % calcTime )"
   ]
  },
  {
   "cell_type": "code",
   "execution_count": 12,
   "metadata": {
    "collapsed": false
   },
   "outputs": [
    {
     "name": "stdout",
     "output_type": "stream",
     "text": [
      "PV: 5.91870, abs diff: 0.06955, rel diff:  0.01161\n",
      "Calculation time   1.02299\n"
     ]
    }
   ],
   "source": [
    "start = default_timer()\n",
    "\n",
    "pv = FDCnEu(S0=S0, K=K, r=r, T=T, sigma=sigma, Smax=Smax,\n",
    "                  M=100, N=1000, is_call=True).price()\n",
    "\n",
    "calcTime = default_timer() - start\n",
    "print( \"PV: %.5f, abs diff: %.5f, rel diff:  %.5f\" % (pv, ref_pv - pv, (ref_pv - pv)/ref_pv) )\n",
    "print( \"Calculation time   %.5f\" % calcTime )"
   ]
  },
  {
   "cell_type": "code",
   "execution_count": 0,
   "metadata": {
    "collapsed": true
   },
   "outputs": [
   ],
   "source": [
   ]
  },
  {
   "cell_type": "code",
   "execution_count": 0,
   "metadata": {
    "collapsed": true
   },
   "outputs": [
   ],
   "source": [
   ]
  }
 ],
 "metadata": {
  "kernelspec": {
   "display_name": "Python 3 (Ubuntu Linux)",
   "language": "python",
   "name": "python3"
  },
  "language_info": {
   "codemirror_mode": {
    "name": "ipython",
    "version": 3
   },
   "file_extension": ".py",
   "mimetype": "text/x-python",
   "name": "python",
   "nbconvert_exporter": "python",
   "pygments_lexer": "ipython3",
   "version": "3.4.3+"
  },
  "name": "OptionsL2.PDE.ipynb"
 },
 "nbformat": 4,
 "nbformat_minor": 0
}