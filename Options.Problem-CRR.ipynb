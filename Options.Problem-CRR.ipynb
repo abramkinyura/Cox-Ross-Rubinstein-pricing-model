{
 "cells": [
  {
   "cell_type": "code",
   "execution_count": 1,
   "metadata": {
    "collapsed": true
   },
   "outputs": [
   ],
   "source": [
    "import os.path\n",
    "import os\n",
    "import math as m\n",
    "#import numpy as np\n",
    "import matplotlib.pyplot as plt\n",
    "import matplotlib.image as mpimg\n",
    "%matplotlib inline"
   ]
  },
  {
   "cell_type": "code",
   "execution_count": 2,
   "metadata": {
    "collapsed": false
   },
   "outputs": [
   ],
   "source": [
    "def gen_lattice(S0, u, d, N):\n",
    "    \"\"\"generates a binomial lattice\n",
    "    \n",
    "    for a given up, down, start value and number of steps (N).\n",
    "    Resulting lattice has N+1 levels.\n",
    "    \"\"\"\n",
    "    S = [float(S0)]\n",
    "\n",
    "    for i in range(1, N+1):\n",
    "        for j in range(0, i+1):\n",
    "            S.append( S0 * d**j * u**(i-j) )\n",
    "\n",
    "    return S\n"
   ]
  },
  {
   "cell_type": "code",
   "execution_count": 3,
   "metadata": {
    "collapsed": false
   },
   "outputs": [
    {
     "data": {
      "text/plain": [
       "[100.0,\n",
       " 110.00000000000001,\n",
       " 90.0,\n",
       " 121.00000000000001,\n",
       " 99.00000000000001,\n",
       " 81.0,\n",
       " 133.10000000000005,\n",
       " 108.90000000000002,\n",
       " 89.10000000000001,\n",
       " 72.9]"
      ]
     },
     "execution_count": 3,
     "metadata": {
     },
     "output_type": "execute_result"
    }
   ],
   "source": [
    "gen_lattice(S0=100., N=3, u=1.1, d=.9)"
   ]
  },
  {
   "cell_type": "markdown",
   "metadata": {
    "collapsed": false
   },
   "source": [
    "The number of levels in a binomial lattice of length N is $\\frac{\\sqrt{8N+1}-1}{2}$"
   ]
  },
  {
   "cell_type": "code",
   "execution_count": 4,
   "metadata": {
    "collapsed": true
   },
   "outputs": [
   ],
   "source": [
    "def lattice_levels(S):\n",
    "    return int( round( (m.sqrt(8*len(S)+1)-1)/2 ) )"
   ]
  },
  {
   "cell_type": "markdown",
   "metadata": {
    "collapsed": false
   },
   "source": [
    "lattice visialisation based on idea from [link](http://www.theresearchkitchen.com/archives/738)"
   ]
  },
  {
   "cell_type": "code",
   "execution_count": 5,
   "metadata": {
    "collapsed": false
   },
   "outputs": [
   ],
   "source": [
    "tmp = os.path.join(os.path.expanduser('~'), 'tmp')\n",
    "if not os.path.exists(tmp):\n",
    "    os.makedirs(tmp)"
   ]
  },
  {
   "cell_type": "code",
   "execution_count": 6,
   "metadata": {
    "collapsed": false
   },
   "outputs": [
   ],
   "source": [
    "def dotlattice(S, filename, labels=True):\n",
    "    f = open(filename, 'w')\n",
    "    f.write(\"digraph G {\\n\")\n",
    "\n",
    "    shape = \"plaintext\" if labels else \"point\"\n",
    "\n",
    "    f.write(\"node[shape=%s, samehead=true, sametail=true];\\n\" % shape)\n",
    "    f.write(\"rankdir=LR;\\n\")\n",
    "\n",
    "    f.write(\"edge[arrowhead=none];\\n\")\n",
    "\n",
    "    # Create a dot node for each element in the lattice\n",
    "    for i in range(0, len(S)):\n",
    "        f.write( \"node%d[label=\\\"%g\\\"];\\n\" % (i+1, S[i]) )\n",
    "\n",
    "    # The number of levels in a binomial lattice\n",
    "    L = lattice_levels(S)\n",
    "\n",
    "    k=1\n",
    "    for i in range(1, L):\n",
    "        tabs = \"\\t\" * (i-1)\n",
    "        j = i\n",
    "        while( j>0 ):\n",
    "            f.write(\"node%d->node%d;\\n\" % (k, k+i))\n",
    "            f.write(\"node%d->node%d;\\n\" % (k, k+i+1))\n",
    "            k = k + 1\n",
    "            j = j - 1\n",
    "\n",
    "    f.write(\"}\\n\")\n"
   ]
  },
  {
   "cell_type": "code",
   "execution_count": 7,
   "metadata": {
    "collapsed": false
   },
   "outputs": [
    {
     "name": "stderr",
     "output_type": "stream",
     "text": [
      "dot - graphviz version 2.30.1 (20130214.1330)\n",
      "libdir = \"C:\\Program Files (x86)\\Graphviz2.30\\bin\"\n",
      "Activated plugin library: gvplugin_pango.dll\n",
      "Using textlayout: textlayout:cairo\n",
      "Using render: cairo:cairo\n",
      "Using device: png:cairo:cairo\n",
      "Activated plugin library: gvplugin_dot_layout.dll\n",
      "Using layout: dot:dot_layout\n",
      "The plugin configuration file:\n",
      "\tC:\\Program Files (x86)\\Graphviz2.30\\bin\\config6\n",
      "\t\twas successfully loaded.\n",
      "    render\t:  cairo dot fig gd gdiplus map pic pov ps svg tk vml vrml xdot\n",
      "    layout\t:  circo dot fdp neato nop nop1 nop2 osage patchwork sfdp twopi\n",
      "    textlayout\t:  textlayout\n",
      "    device\t:  bmp canon cmap cmapx cmapx_np dot emf emfplus eps fig gd gd2 gif gv imap imap_np ismap jpe jpeg jpg metafile pdf pic plain plain-ext png pov ps ps2 svg svgz tif tiff tk vml vmlz vrml wbmp xdot\n",
      "    loadimage\t:  (lib) bmp eps gd gd2 gif jpe jpeg jpg png ps svg\n",
      "fontname: \"Times-Roman\" resolved to: (ps:pango  Times New Roman, ) (PangoCairoWin32Font) \"Times New Roman, 13.9990234375\" \n",
      "network simplex:  21 nodes 30 edges maxiter=2147483647 balance=1\n",
      "network simplex: 21 nodes 30 edges 3 iter 0.00 sec\n",
      "Maxrank = 5, minrank = 0\n",
      "mincross: pass 0 iter 0 trying 0 cur_cross 0 best_cross 0\n",
      "mincross G: 0 crossings, 0.00 secs.\n",
      "network simplex:  51 nodes 75 edges maxiter=2147483647 balance=2\n",
      "network simplex: 51 nodes 75 edges 8 iter 0.00 sec\n",
      "routesplines: 30 edges, 90 boxes 0.00 sec\n",
      "Using render: cairo:cairo\n",
      "Using device: png:cairo:cairo\n",
      "dot: allocating a 1134K cairo image surface (693 x 419 pixels)\n",
      "gvRenderJobs G: 0.05 secs.\n"
     ]
    }
   ],
   "source": [
    "name=\"lattice\"\n",
    "dotfile=os.path.join(tmp, name+\".dot\")\n",
    "pngfile=os.path.join(tmp, name+\".png\")\n",
    "dotlattice(gen_lattice(S0=100., N=5, u=1.1, d=0.9), filename=dotfile )\n",
    "!dot -Tpng -o {pngfile} -v {dotfile} \n",
    "#2> /dev/null"
   ]
  },
  {
   "cell_type": "code",
   "execution_count": 8,
   "metadata": {
    "collapsed": false
   },
   "outputs": [
    {
     "data": {
      "text/plain": [
       "<matplotlib.image.AxesImage at 0x79d9e10>"
      ]
     },
     "execution_count": 8,
     "metadata": {
     },
     "output_type": "execute_result"
    },
    {
     "data": {
      "image/png": "[encoded data removed]"
     },
     "execution_count": 8,
     "metadata": {
     },
     "output_type": "execute_result"
    }
   ],
   "source": [
    "plt.figure(figsize=(16,8))\n",
    "plt.axis('off')\n",
    "plt.imshow( mpimg.imread(os.path.join(tmp, name+\".png\")) )"
   ]
  },
  {
   "cell_type": "markdown",
   "metadata": {
    "collapsed": false
   },
   "source": [
    "$0 < d < e^{r \\Delta t} < u$\n",
    "\n",
    "$u = e^{ \\sigma \\sqrt{ \\Delta t } }$\n",
    "\n",
    "$d = \\frac{1}{u}$\n",
    "\n",
    "$p = \\frac{e^{r \\Delta t} - d}{u - d}$ - вероятность движения вверх на каждом шаге"
   ]
  },
  {
   "cell_type": "code",
   "execution_count": 9,
   "metadata": {
    "collapsed": false
   },
   "outputs": [
    {
     "name": "stdout",
     "output_type": "stream",
     "text": [
      "levels: 6 len: 21; number of first node on the last level: 15\n",
      "------\n",
      "161.05100000000004\n",
      "131.76900000000003\n",
      "107.81100000000004\n",
      "88.20900000000002\n",
      "72.171\n",
      "59.04900000000001\n",
      "------\n",
      "\n",
      "\n",
      "65.610000 connected to 72.171000 and 59.049000\n",
      "80.190000 connected to 88.209000 and 72.171000\n",
      "98.010000 connected to 107.811000 and 88.209000\n",
      "119.790000 connected to 131.769000 and 107.811000\n",
      "146.410000 connected to 161.051000 and 131.769000\n",
      "---\n",
      "72.900000 connected to 80.190000 and 65.610000\n",
      "89.100000 connected to 98.010000 and 80.190000\n",
      "108.900000 connected to 119.790000 and 98.010000\n",
      "133.100000 connected to 146.410000 and 119.790000\n",
      "---\n",
      "81.000000 connected to 89.100000 and 72.900000\n",
      "99.000000 connected to 108.900000 and 89.100000\n",
      "121.000000 connected to 133.100000 and 108.900000\n",
      "---\n",
      "90.000000 connected to 99.000000 and 81.000000\n",
      "110.000000 connected to 121.000000 and 99.000000\n",
      "---\n",
      "100.000000 connected to 110.000000 and 90.000000\n",
      "---\n"
     ]
    }
   ],
   "source": [
    "S = gen_lattice(S0=100., N=5, u=1.1, d=0.9)\n",
    "######\n",
    "\n",
    "L = lattice_levels(S)\n",
    "print(\"levels: %d len: %d; number of first node on the last level: %d\" % (L, len(S), len(S)-L))\n",
    "print('------')\n",
    "for i in range(len(S)-L, len(S) ):\n",
    "    print(S[i])\n",
    "    \n",
    "print( '------\\n\\n')\n",
    "\n",
    "\n",
    "k=len(S)-L-1 # last index before the last level starts\n",
    "for i in reversed(range(1, L)):\n",
    "    for j in range(0, i):\n",
    "        print(\"%f connected to %f and %f\" % (S[k], S[k+i], S[k+i+1]))\n",
    "        k = k - 1\n",
    "    print('---')"
   ]
  },
  {
   "cell_type": "markdown",
   "metadata": {
    "collapsed": false
   },
   "source": [
    "----------------"
   ]
  },
  {
   "cell_type": "code",
   "execution_count": 10,
   "metadata": {
    "collapsed": false
   },
   "outputs": [
    {
     "name": "stdout",
     "output_type": "stream",
     "text": [
      "3.4.3 (v3.4.3:9b73f1c3e601, Feb 24 2015, 22:44:40) [MSC v.1600 64 bit (AMD64)]\n",
      "with enums\n",
      "Call: CallPut.call; Booleans: True, False \n",
      "Wrong type: False\n"
     ]
    }
   ],
   "source": [
    "import sys\n",
    "print (sys.version)\n",
    "if sys.version_info >= (3,4):\n",
    "    print( \"with enums\" )\n",
    "    from enum import Enum\n",
    "    class CallPut(Enum):\n",
    "        call = 1\n",
    "        put = 2\n",
    "        \n",
    "    class ExerciseStyle(Enum):\n",
    "        euro = 1\n",
    "        amer = 2\n",
    "else:\n",
    "    print( \"no enums\" )\n",
    "    class Enum(object):\n",
    "        def __init__(self, t, s):\n",
    "            self.value = t\n",
    "            self.str_value = s\n",
    "\n",
    "        \n",
    "        def __eq__(self,y):\n",
    "            if type(y) is not self.__class__:\n",
    "                return False\n",
    "            return self.value == y.value\n",
    "\n",
    "        def __str__(self):\n",
    "            return self.str_value\n",
    "                \n",
    "    class CallPut(Enum):\n",
    "        __values__ = ['call', 'put']\n",
    "        \n",
    "        @classmethod \n",
    "        def __enum_init__(cls):\n",
    "            for i in range(len(cls.__values__)):\n",
    "                setattr(cls, cls.__values__[i], CallPut(i+1, cls.__values__[i]))\n",
    "    CallPut.__enum_init__()\n",
    "    \n",
    "    class ExerciseStyle(Enum):\n",
    "        __values__ = ['euro', 'amer']\n",
    "        \n",
    "        @classmethod \n",
    "        def __enum_init__(cls):\n",
    "            for i in range(len(cls.__values__)):\n",
    "                setattr(cls, cls.__values__[i], CallPut(i+1, cls.__values__[i]))\n",
    "    \n",
    "    ExerciseStyle.__enum_init__()\n",
    "\n",
    "t = CallPut.call\n",
    "print( \"Call: %s; Booleans: %r, %r \" %(t, CallPut.call == t, CallPut.put == t) )\n",
    "print( \"Wrong type: %r\" % (t == 1) )"
   ]
  },
  {
   "cell_type": "code",
   "execution_count": 0,
   "metadata": {
    "collapsed": false
   },
   "outputs": [
   ],
   "source": [
    "def pv_crr(amerEuro, callPut, S0, K, T, r, sigma, N):\n",
    "    dt = T / N\n",
    "    df = m.exp(-r * dt)\n",
    "\n",
    "    u = m.exp(sigma * m.sqrt(dt))\n",
    "    d = 1 / u\n",
    "    p = ( m.exp(r * dt) - d ) / (u - d)\n",
    "\n",
    "    S = gen_lattice(S0=S0, N=N, u=u, d=d)\n",
    "    L = N+1 #lattice_levels(S)\n",
    "    \n",
    "    payoff = lambda x: max( 0, x - K ) if CallPut.call == callPut else max( 0, K - x)\n",
    "\n",
    "    # Calculate payoff at the last lattice level\n",
    "    ## TODO ##\n",
    "\n",
    "    # Go backwards, calculate extected value for prev node, based on known nodes\n",
    "    # Calculate payoff at node k, based on expected value of S\n",
    "    ## TODO ##\n",
    "    \n",
    "    return S[0], S\n",
    "\n",
    "# parameters\n",
    "S0 = 100.\n",
    "T = 1.\n",
    "r = 0.05\n",
    "sigma = 0.20\n",
    "K = 100.\n",
    "N = 1000\n",
    "\n",
    "es = ExerciseStyle.euro\n",
    "pvC, _ = pv_crr(es, CallPut.call, S0=S0, K=K, T=T, r=r, sigma=sigma, N=N)\n",
    "print( pvC )\n",
    "pvP, _ = pv_crr(es, CallPut.put, S0=S0, K=K, T=T, r=r, sigma=sigma, N=N)\n",
    "print( pvP )\n",
    "\n",
    "es = ExerciseStyle.amer\n",
    "pvC, _ = pv_crr(es, CallPut.call, S0=S0, K=K, T=T, r=r, sigma=sigma, N=N)\n",
    "print( pvC )\n",
    "pvP, _ = pv_crr(es, CallPut.put, S0=S0, K=K, T=T, r=r, sigma=sigma, N=N)\n",
    "print( pvP )"
   ]
  },
  {
   "cell_type": "markdown",
   "metadata": {
    "collapsed": false
   },
   "source": [
    "-------"
   ]
  },
  {
   "cell_type": "code",
   "execution_count": 0,
   "metadata": {
    "collapsed": true
   },
   "outputs": [
   ],
   "source": [
   ]
  }
 ],
 "metadata": {
  "kernelspec": {
   "display_name": "Python 3 (Ubuntu Linux)",
   "language": "python",
   "name": "python3"
  },
  "language_info": {
   "codemirror_mode": {
    "name": "ipython",
    "version": 3
   },
   "file_extension": ".py",
   "mimetype": "text/x-python",
   "name": "python",
   "nbconvert_exporter": "python",
   "pygments_lexer": "ipython3",
   "version": "3.4.3+"
  },
  "name": "tmp2.ipynb"
 },
 "nbformat": 4,
 "nbformat_minor": 0
}